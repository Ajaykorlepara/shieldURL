{
 "cells": [
  {
   "cell_type": "markdown",
   "id": "f2c8fdf1",
   "metadata": {},
   "source": [
    "# Malicious URL Detection with XGBoost\n",
    "This notebook demonstrates feature extraction from URLs and classification of malicious URLs using XGBoost. It covers data loading, feature engineering, model training, and prediction steps."
   ]
  },
  {
   "cell_type": "markdown",
   "id": "b9e39e83",
   "metadata": {},
   "source": [
    "## 1. Import Required Libraries\n",
    "Import pandas, scikit-learn, xgboost, urllib, re, pickle, and other necessary libraries."
   ]
  },
  {
   "cell_type": "code",
   "execution_count": 14,
   "id": "cbd2b73c",
   "metadata": {},
   "outputs": [],
   "source": [
    "import pandas as pd\n",
    "from urllib.parse import urlparse as url_parse\n",
    "from sklearn.preprocessing import StandardScaler, LabelEncoder\n",
    "from sklearn.model_selection import train_test_split\n",
    "import re\n",
    "from googlesearch import search\n",
    "import pickle\n",
    "import xgboost as xgb\n",
    "from tld import get_tld\n",
    "import os.path\n",
    "import math"
   ]
  },
  {
   "cell_type": "markdown",
   "id": "7f8de151",
   "metadata": {},
   "source": [
    "## 2. Define URL Feature Extraction Functions\n",
    "Implement functions to extract features from URLs, such as having_ip_address, abnormal_url, count_dot, shortening_service, suspicious_words, digit_count, letter_count, fd_length, tld_length, etc."
   ]
  },
  {
   "cell_type": "code",
   "execution_count": 15,
   "id": "24b8c19b",
   "metadata": {},
   "outputs": [],
   "source": [
    "# URL Feature Extraction Functions\n",
    "def having_ip_address(url):\n",
    "    match = re.search(r\"(([01]?\\d\\d?|2[0-4]\\d|25[0-5])\\.([01]?\\d\\d?|2[0-4]\\d|25[0-5])\\.([01]?\\d\\d?|2[0-4]\\d|25[0-5])\\.([01]?\\d\\d?|2[0-4]\\d|25[0-5]))|((0x[0-9a-fA-F]{1,2})\\.(0x[0-9a-fA-F]{1,2})\\.(0x[0-9a-fA-F]{1,2})\\.(0x[0-9a-fA-F]{1,2}))(?:[a-fA-F0-9]{1,4}:){7}[a-fA-F0-9]{1,4}\", url)\n",
    "    return 1 if match else 0\n",
    "\n",
    "def abnormal_url(url):\n",
    "    parsed_url = url_parse(url)\n",
    "    hostname = str(parsed_url.hostname)\n",
    "    match = re.search(hostname, url)\n",
    "    return 1 if match else 0\n",
    "\n",
    "def search_google(url):\n",
    "    site = search(url, 5)\n",
    "    return 1 if site else 0\n",
    "\n",
    "def count_dot(url):\n",
    "    return url.count(\".\")\n",
    "\n",
    "def count_www(url):\n",
    "    return url.count(\"www\")\n",
    "\n",
    "def count_atrate(url):\n",
    "    return url.count(\"@\")\n",
    "\n",
    "def no_of_dir(url):\n",
    "    urldir = url_parse(url).path\n",
    "    return urldir.count(\"/\")\n",
    "\n",
    "def no_of_embed(url):\n",
    "    urldir = url_parse(url).path\n",
    "    return urldir.count(\"//\")\n",
    "\n",
    "def shortening_service(url):\n",
    "    match = re.search(r\"bit\\.ly|goo\\.gl|shorte\\.st|go2l\\.ink|x\\.co|ow\\.ly|t\\.co|tinyurl|tr\\.im|is\\.gd|cli\\.gs|yfrog\\.com|migre\\.me|ff\\.im|tiny\\.cc|url4\\.eu|twit\\.ac|su\\.pr|twurl\\.nl|snipurl\\.com|short\\.to|BudURL\\.com|ping\\.fm|post\\.ly|Just\\.as|bkite\\.com|snipr\\.com|fic\\.kr|loopt\\.us|doiop\\.com|short\\.ie|kl\\.am|wp\\.me|rubyurl\\.com|om\\.ly|to\\.ly|bit\\.do|t\\.co|lnkd\\.in|db\\.tt|qr\\.ae|adataset\\.ly|goo\\.gl|bitly\\.com|cur\\.lv|tinyurl\\.com|ow\\.ly|bit\\.ly|ity\\.im|q\\.gs|is\\.gd|po\\.st|bc\\.vc|twitthis\\.com|u\\.to|j\\.mp|buzurl\\.com|cutt\\.us|u\\.bb|yourls\\.org|x\\.co|prettylinkpro\\.com|scrnch\\.me|filoops\\.info|vzturl\\.com|qr\\.net|1url\\.com|tweez\\.me|v\\.gd|tr\\.im|link\\.zip\\.net\", url)\n",
    "    return 1 if match else 0\n",
    "\n",
    "def count_https(url):\n",
    "    return url.count(\"https\")\n",
    "\n",
    "def count_http(url):\n",
    "    return url.count(\"http\")\n",
    "\n",
    "def count_per(url):\n",
    "    return url.count(\"%\")\n",
    "\n",
    "def count_ques(url):\n",
    "    return url.count(\"?\")\n",
    "\n",
    "def count_hyphen(url):\n",
    "    return url.count(\"-\")\n",
    "\n",
    "def count_equal(url):\n",
    "    return url.count(\"=\")\n",
    "\n",
    "def url_length(url):\n",
    "    return len(str(url))\n",
    "\n",
    "def hostname_length(url):\n",
    "    return len(url_parse(url).netloc)\n",
    "\n",
    "def suspicious_words(url):\n",
    "    match = re.search(r\"PayPal|login|signin|bank|account|update|free|lucky|service|bonus|ebayisapi|webscr\", url)\n",
    "    return 1 if match else 0\n",
    "\n",
    "def digit_count(url):\n",
    "    return sum(1 for i in url if i.isnumeric())\n",
    "\n",
    "def letter_count(url):\n",
    "    return sum(1 for i in url if i.isalpha())\n",
    "\n",
    "def fd_length(url):\n",
    "    try:\n",
    "        path = url_parse(url).path\n",
    "        first_dir = path.split('/')[1] if len(path.split('/')) > 1 else ''\n",
    "        return len(first_dir)\n",
    "    except Exception:\n",
    "        return 0\n",
    "\n",
    "def tld_length(tld):\n",
    "    try:\n",
    "        return len(str(tld))\n",
    "    except Exception:\n",
    "        return 0"
   ]
  },
  {
   "cell_type": "markdown",
   "id": "3698f193",
   "metadata": {},
   "source": [
    "## 3. Load and Explore Dataset\n",
    "Load the 'malicious_phish.csv' dataset and display basic statistics and sample rows."
   ]
  },
  {
   "cell_type": "code",
   "execution_count": 16,
   "id": "b9979002",
   "metadata": {},
   "outputs": [
    {
     "name": "stdout",
     "output_type": "stream",
     "text": [
      "Dataset shape: (651191, 2)\n"
     ]
    },
    {
     "data": {
      "text/plain": [
       "type\n",
       "benign        428103\n",
       "defacement     96457\n",
       "phishing       94111\n",
       "malware        32520\n",
       "Name: count, dtype: int64"
      ]
     },
     "execution_count": 16,
     "metadata": {},
     "output_type": "execute_result"
    }
   ],
   "source": [
    "# Load the dataset\n",
    "DATA_PATH = r'C:\\Users\\ajayk\\OneDrive\\Documents\\url\\malicious_phish.csv'\n",
    "dataset = pd.read_csv(DATA_PATH)\n",
    "print('Dataset shape:', dataset.shape)\n",
    "dataset.head()\n",
    "dataset.describe()\n",
    "dataset['type'].value_counts()"
   ]
  },
  {
   "cell_type": "markdown",
   "id": "4be22f20",
   "metadata": {},
   "source": [
    "## 4. Feature Engineering on URLs\n",
    "Apply feature extraction functions to the dataset to create new columns for each URL feature."
   ]
  },
  {
   "cell_type": "code",
   "execution_count": 17,
   "id": "4c32917c",
   "metadata": {},
   "outputs": [
    {
     "data": {
      "text/html": [
       "<div>\n",
       "<style scoped>\n",
       "    .dataframe tbody tr th:only-of-type {\n",
       "        vertical-align: middle;\n",
       "    }\n",
       "\n",
       "    .dataframe tbody tr th {\n",
       "        vertical-align: top;\n",
       "    }\n",
       "\n",
       "    .dataframe thead th {\n",
       "        text-align: right;\n",
       "    }\n",
       "</style>\n",
       "<table border=\"1\" class=\"dataframe\">\n",
       "  <thead>\n",
       "    <tr style=\"text-align: right;\">\n",
       "      <th></th>\n",
       "      <th>url</th>\n",
       "      <th>type</th>\n",
       "      <th>use_of_ip</th>\n",
       "      <th>abnormal_url</th>\n",
       "      <th>google_index</th>\n",
       "      <th>count.</th>\n",
       "      <th>count-www</th>\n",
       "      <th>count@</th>\n",
       "      <th>count_dir</th>\n",
       "      <th>count_embed_domian</th>\n",
       "      <th>...</th>\n",
       "      <th>count-</th>\n",
       "      <th>count=</th>\n",
       "      <th>url_length</th>\n",
       "      <th>hostname_length</th>\n",
       "      <th>sus_url</th>\n",
       "      <th>count-digits</th>\n",
       "      <th>count-letters</th>\n",
       "      <th>fd_length</th>\n",
       "      <th>tld</th>\n",
       "      <th>tld_length</th>\n",
       "    </tr>\n",
       "  </thead>\n",
       "  <tbody>\n",
       "    <tr>\n",
       "      <th>0</th>\n",
       "      <td>br-icloud.com.br</td>\n",
       "      <td>phishing</td>\n",
       "      <td>0</td>\n",
       "      <td>0</td>\n",
       "      <td>1</td>\n",
       "      <td>2</td>\n",
       "      <td>0</td>\n",
       "      <td>0</td>\n",
       "      <td>0</td>\n",
       "      <td>0</td>\n",
       "      <td>...</td>\n",
       "      <td>1</td>\n",
       "      <td>0</td>\n",
       "      <td>16</td>\n",
       "      <td>0</td>\n",
       "      <td>0</td>\n",
       "      <td>0</td>\n",
       "      <td>13</td>\n",
       "      <td>0</td>\n",
       "      <td>None</td>\n",
       "      <td>4</td>\n",
       "    </tr>\n",
       "    <tr>\n",
       "      <th>1</th>\n",
       "      <td>mp3raid.com/music/krizz_kaliko.html</td>\n",
       "      <td>benign</td>\n",
       "      <td>0</td>\n",
       "      <td>0</td>\n",
       "      <td>1</td>\n",
       "      <td>2</td>\n",
       "      <td>0</td>\n",
       "      <td>0</td>\n",
       "      <td>2</td>\n",
       "      <td>0</td>\n",
       "      <td>...</td>\n",
       "      <td>0</td>\n",
       "      <td>0</td>\n",
       "      <td>35</td>\n",
       "      <td>0</td>\n",
       "      <td>0</td>\n",
       "      <td>1</td>\n",
       "      <td>29</td>\n",
       "      <td>5</td>\n",
       "      <td>None</td>\n",
       "      <td>4</td>\n",
       "    </tr>\n",
       "    <tr>\n",
       "      <th>2</th>\n",
       "      <td>bopsecrets.org/rexroth/cr/1.htm</td>\n",
       "      <td>benign</td>\n",
       "      <td>0</td>\n",
       "      <td>0</td>\n",
       "      <td>1</td>\n",
       "      <td>2</td>\n",
       "      <td>0</td>\n",
       "      <td>0</td>\n",
       "      <td>3</td>\n",
       "      <td>0</td>\n",
       "      <td>...</td>\n",
       "      <td>0</td>\n",
       "      <td>0</td>\n",
       "      <td>31</td>\n",
       "      <td>0</td>\n",
       "      <td>0</td>\n",
       "      <td>1</td>\n",
       "      <td>25</td>\n",
       "      <td>7</td>\n",
       "      <td>None</td>\n",
       "      <td>4</td>\n",
       "    </tr>\n",
       "    <tr>\n",
       "      <th>3</th>\n",
       "      <td>http://www.garage-pirenne.be/index.php?option=...</td>\n",
       "      <td>defacement</td>\n",
       "      <td>0</td>\n",
       "      <td>1</td>\n",
       "      <td>1</td>\n",
       "      <td>3</td>\n",
       "      <td>1</td>\n",
       "      <td>0</td>\n",
       "      <td>1</td>\n",
       "      <td>0</td>\n",
       "      <td>...</td>\n",
       "      <td>1</td>\n",
       "      <td>4</td>\n",
       "      <td>88</td>\n",
       "      <td>21</td>\n",
       "      <td>0</td>\n",
       "      <td>7</td>\n",
       "      <td>63</td>\n",
       "      <td>9</td>\n",
       "      <td>be</td>\n",
       "      <td>2</td>\n",
       "    </tr>\n",
       "    <tr>\n",
       "      <th>4</th>\n",
       "      <td>http://adventure-nicaragua.net/index.php?optio...</td>\n",
       "      <td>defacement</td>\n",
       "      <td>0</td>\n",
       "      <td>1</td>\n",
       "      <td>1</td>\n",
       "      <td>2</td>\n",
       "      <td>0</td>\n",
       "      <td>0</td>\n",
       "      <td>1</td>\n",
       "      <td>0</td>\n",
       "      <td>...</td>\n",
       "      <td>1</td>\n",
       "      <td>3</td>\n",
       "      <td>235</td>\n",
       "      <td>23</td>\n",
       "      <td>0</td>\n",
       "      <td>22</td>\n",
       "      <td>199</td>\n",
       "      <td>9</td>\n",
       "      <td>net</td>\n",
       "      <td>3</td>\n",
       "    </tr>\n",
       "  </tbody>\n",
       "</table>\n",
       "<p>5 rows × 25 columns</p>\n",
       "</div>"
      ],
      "text/plain": [
       "                                                 url        type  use_of_ip  \\\n",
       "0                                   br-icloud.com.br    phishing          0   \n",
       "1                mp3raid.com/music/krizz_kaliko.html      benign          0   \n",
       "2                    bopsecrets.org/rexroth/cr/1.htm      benign          0   \n",
       "3  http://www.garage-pirenne.be/index.php?option=...  defacement          0   \n",
       "4  http://adventure-nicaragua.net/index.php?optio...  defacement          0   \n",
       "\n",
       "   abnormal_url  google_index  count.  count-www  count@  count_dir  \\\n",
       "0             0             1       2          0       0          0   \n",
       "1             0             1       2          0       0          2   \n",
       "2             0             1       2          0       0          3   \n",
       "3             1             1       3          1       0          1   \n",
       "4             1             1       2          0       0          1   \n",
       "\n",
       "   count_embed_domian  ...  count-  count=  url_length  hostname_length  \\\n",
       "0                   0  ...       1       0          16                0   \n",
       "1                   0  ...       0       0          35                0   \n",
       "2                   0  ...       0       0          31                0   \n",
       "3                   0  ...       1       4          88               21   \n",
       "4                   0  ...       1       3         235               23   \n",
       "\n",
       "   sus_url  count-digits  count-letters  fd_length   tld  tld_length  \n",
       "0        0             0             13          0  None           4  \n",
       "1        0             1             29          5  None           4  \n",
       "2        0             1             25          7  None           4  \n",
       "3        0             7             63          9    be           2  \n",
       "4        0            22            199          9   net           3  \n",
       "\n",
       "[5 rows x 25 columns]"
      ]
     },
     "execution_count": 17,
     "metadata": {},
     "output_type": "execute_result"
    }
   ],
   "source": [
    "# Apply feature extraction functions to dataset\n",
    "dataset['use_of_ip'] = dataset['url'].apply(having_ip_address)\n",
    "dataset['abnormal_url'] = dataset['url'].apply(abnormal_url)\n",
    "dataset['google_index'] = dataset['url'].apply(search_google)\n",
    "dataset['count.'] = dataset['url'].apply(count_dot)\n",
    "dataset['count-www'] = dataset['url'].apply(count_www)\n",
    "dataset['count@'] = dataset['url'].apply(count_atrate)\n",
    "dataset['count_dir'] = dataset['url'].apply(no_of_dir)\n",
    "dataset['count_embed_domian'] = dataset['url'].apply(no_of_embed)\n",
    "dataset['short_url'] = dataset['url'].apply(shortening_service)\n",
    "dataset['count-https'] = dataset['url'].apply(count_https)\n",
    "dataset['count-http'] = dataset['url'].apply(count_http)\n",
    "dataset['count%'] = dataset['url'].apply(count_per)\n",
    "dataset['count?'] = dataset['url'].apply(count_ques)\n",
    "dataset['count-'] = dataset['url'].apply(count_hyphen)\n",
    "dataset['count='] = dataset['url'].apply(count_equal)\n",
    "dataset['url_length'] = dataset['url'].apply(url_length)\n",
    "dataset['hostname_length'] = dataset['url'].apply(hostname_length)\n",
    "dataset['sus_url'] = dataset['url'].apply(suspicious_words)\n",
    "dataset['count-digits'] = dataset['url'].apply(digit_count)\n",
    "dataset['count-letters'] = dataset['url'].apply(letter_count)\n",
    "dataset['fd_length'] = dataset['url'].apply(fd_length)\n",
    "dataset['tld'] = dataset['url'].apply(lambda i: get_tld(i, fail_silently=True))\n",
    "dataset['tld_length'] = dataset['tld'].apply(tld_length)\n",
    "dataset.head()"
   ]
  },
  {
   "cell_type": "markdown",
   "id": "f2bf3f68",
   "metadata": {},
   "source": [
    "## 5. Train/Test Split and Data Preprocessing\n",
    "Split the dataset into training and test sets, and apply scaling and label encoding."
   ]
  },
  {
   "cell_type": "code",
   "execution_count": 18,
   "id": "dc7202a2",
   "metadata": {},
   "outputs": [],
   "source": [
    "# Prepare features and labels\n",
    "feature_columns = ['use_of_ip', 'abnormal_url', 'count.', 'count-www', 'count@',\n",
    "    'count_dir', 'count_embed_domian', 'short_url', 'count-https', 'count-http',\n",
    "    'count%', 'count?', 'count-', 'count=', 'url_length', 'hostname_length',\n",
    "    'sus_url', 'fd_length', 'tld_length', 'count-digits', 'count-letters']\n",
    "X = dataset[feature_columns]\n",
    "y = dataset['type']\n",
    "\n",
    "# Drop rows with missing values\n",
    "X = X.dropna()\n",
    "y = y[X.index]\n",
    "\n",
    "# Train/test split\n",
    "X_train, X_test, y_train, y_test = train_test_split(X, y, stratify=y, test_size=0.2, shuffle=True, random_state=5)\n",
    "\n",
    "# Scale features\n",
    "scaler = StandardScaler()\n",
    "X_train_scaled = scaler.fit_transform(X_train)\n",
    "X_test_scaled = scaler.transform(X_test)\n",
    "\n",
    "# Encode labels\n",
    "label_encoder = LabelEncoder()\n",
    "y_train_encoded = label_encoder.fit_transform(y_train)\n",
    "y_test_encoded = label_encoder.transform(y_test)"
   ]
  },
  {
   "cell_type": "markdown",
   "id": "d09eab9f",
   "metadata": {},
   "source": [
    "## 6. Train XGBoost Model\n",
    "Train an XGBoost classifier on the processed features and labels."
   ]
  },
  {
   "cell_type": "code",
   "execution_count": 20,
   "id": "80acecbf",
   "metadata": {},
   "outputs": [
    {
     "name": "stdout",
     "output_type": "stream",
     "text": [
      "Test Accuracy: 0.9615\n"
     ]
    }
   ],
   "source": [
    "# Train XGBoost model\n",
    "xgb_model = xgb.XGBClassifier(n_estimators=100)\n",
    "xgb_model.fit(X_train_scaled, y_train_encoded)\n",
    "\n",
    "# Evaluate model\n",
    "score = xgb_model.score(X_test_scaled, y_test_encoded)\n",
    "print(f\"Test Accuracy: {score:.4f}\")"
   ]
  },
  {
   "cell_type": "markdown",
   "id": "2ac3bace",
   "metadata": {},
   "source": [
    "## 6a. Hyperparameter Tuning for XGBoost\n",
    "Use GridSearchCV to find the best hyperparameters for the XGBoost model."
   ]
  },
  {
   "cell_type": "code",
   "execution_count": 21,
   "id": "ab6abac3",
   "metadata": {},
   "outputs": [
    {
     "name": "stdout",
     "output_type": "stream",
     "text": [
      "Fitting 3 folds for each of 54 candidates, totalling 162 fits\n",
      "Best parameters: {'learning_rate': 0.2, 'max_depth': 7, 'n_estimators': 200, 'subsample': 0.8}\n",
      "Best cross-validation accuracy: 0.9657665191884384\n",
      "Test Accuracy with best parameters: 0.9655\n"
     ]
    }
   ],
   "source": [
    "# Hyperparameter tuning for XGBoost using GridSearchCV\n",
    "from sklearn.model_selection import GridSearchCV\n",
    "param_grid = {\n",
    "    'n_estimators': [50, 100, 200],\n",
    "    'max_depth': [3, 5, 7],\n",
    "    'learning_rate': [0.01, 0.1, 0.2],\n",
    "    'subsample': [0.8, 1.0]\n",
    "}\n",
    "xgb_clf = xgb.XGBClassifier()\n",
    "grid_search = GridSearchCV(xgb_clf, param_grid, cv=3, scoring='accuracy', verbose=1, n_jobs=-1)\n",
    "grid_search.fit(X_train_scaled, y_train_encoded)\n",
    "print('Best parameters:', grid_search.best_params_)\n",
    "print('Best cross-validation accuracy:', grid_search.best_score_)\n",
    "best_xgb_model = grid_search.best_estimator_\n",
    "score = best_xgb_model.score(X_test_scaled, y_test_encoded)\n",
    "print(f'Test Accuracy with best parameters: {score:.4f}')"
   ]
  },
  {
   "cell_type": "code",
   "execution_count": 22,
   "id": "d7a7c685",
   "metadata": {},
   "outputs": [
    {
     "name": "stdout",
     "output_type": "stream",
     "text": [
      "Test Accuracy (best params): 0.9655\n"
     ]
    }
   ],
   "source": [
    "# Train XGBoost with best parameters from GridSearchCV\n",
    "best_params = grid_search.best_params_\n",
    "xgb_best = xgb.XGBClassifier(**best_params)\n",
    "xgb_best.fit(X_train_scaled, y_train_encoded)\n",
    "score = xgb_best.score(X_test_scaled, y_test_encoded)\n",
    "print(f'Test Accuracy (best params): {score:.4f}')"
   ]
  },
  {
   "cell_type": "code",
   "execution_count": null,
   "id": "1fbcbefa",
   "metadata": {},
   "outputs": [],
   "source": [
    "# Predict for a new URL using the best XGBoost model\n",
    "new_url = 'http://example.com/login?user=test'\n",
    "features = preprocess_url(new_url)\n",
    "features_scaled = scaler.transform([features])\n",
    "prediction = xgb_best.predict(features_scaled)\n",
    "predicted_label = label_encoder.inverse_transform(prediction)\n",
    "print(f'Prediction for URL: {new_url} => {predicted_label[0]}')"
   ]
  },
  {
   "cell_type": "markdown",
   "id": "cd9becef",
   "metadata": {},
   "source": [
    "## 7. Save Model and Preprocessing Objects\n",
    "Save the trained model, scaler, and label encoder using pickle for later use."
   ]
  },
  {
   "cell_type": "code",
   "execution_count": 23,
   "id": "35f7d240",
   "metadata": {},
   "outputs": [],
   "source": [
    "# Save model and preprocessing objects\n",
    "with open('model.pkl', 'wb') as model_file:\n",
    "    pickle.dump(xgb_model, model_file)\n",
    "with open('scaler.pkl', 'wb') as scaler_file:\n",
    "    pickle.dump(scaler, scaler_file)\n",
    "with open('label_encoder.pkl', 'wb') as label_encoder_file:\n",
    "    pickle.dump(label_encoder, label_encoder_file)"
   ]
  },
  {
   "cell_type": "markdown",
   "id": "3a438de6",
   "metadata": {},
   "source": [
    "## 8. Preprocess New URL for Prediction\n",
    "Demonstrate how to preprocess a new URL and prepare its features for model prediction."
   ]
  },
  {
   "cell_type": "code",
   "execution_count": null,
   "id": "a8a89b45",
   "metadata": {},
   "outputs": [],
   "source": []
  },
  {
   "cell_type": "code",
   "execution_count": 26,
   "id": "fdb2ed95",
   "metadata": {},
   "outputs": [
    {
     "name": "stdout",
     "output_type": "stream",
     "text": [
      "Prediction for URL: http://secure-bank-account-update.com => phishing\n"
     ]
    },
    {
     "name": "stderr",
     "output_type": "stream",
     "text": [
      "c:\\Users\\ajayk\\AppData\\Local\\Programs\\Python\\Python312\\Lib\\site-packages\\sklearn\\utils\\validation.py:2739: UserWarning: X does not have valid feature names, but StandardScaler was fitted with feature names\n",
      "  warnings.warn(\n"
     ]
    }
   ],
   "source": [
    "# Preprocess a new URL for prediction\n",
    "def preprocess_url(url):\n",
    "    features = [\n",
    "        having_ip_address(url),\n",
    "        abnormal_url(url),\n",
    "        count_dot(url),\n",
    "        count_www(url),\n",
    "        count_atrate(url),\n",
    "        no_of_dir(url),\n",
    "        no_of_embed(url),\n",
    "        shortening_service(url),\n",
    "        count_https(url),\n",
    "        count_http(url),\n",
    "        count_per(url),\n",
    "        count_ques(url),\n",
    "        count_hyphen(url),\n",
    "        count_equal(url),\n",
    "        url_length(url),\n",
    "        hostname_length(url),\n",
    "        suspicious_words(url),\n",
    "        fd_length(url),\n",
    "        tld_length(get_tld(url, fail_silently=True)),\n",
    "        digit_count(url),\n",
    "        letter_count(url)\n",
    "    ]\n",
    "    return features\n",
    "\n",
    "# Example usage\n",
    "new_url = 'http://secure-bank-account-update.com'\n",
    "features = preprocess_url(new_url)\n",
    "features_scaled = scaler.transform([features])\n",
    "prediction = xgb_model.predict(features_scaled)\n",
    "predicted_label = label_encoder.inverse_transform(prediction)\n",
    "print(f\"Prediction for URL: {new_url} => {predicted_label[0]}\")"
   ]
  },
  {
   "cell_type": "code",
   "execution_count": null,
   "id": "6a35cda3",
   "metadata": {},
   "outputs": [],
   "source": []
  }
 ],
 "metadata": {
  "kernelspec": {
   "display_name": "Python 3",
   "language": "python",
   "name": "python3"
  },
  "language_info": {
   "codemirror_mode": {
    "name": "ipython",
    "version": 3
   },
   "file_extension": ".py",
   "mimetype": "text/x-python",
   "name": "python",
   "nbconvert_exporter": "python",
   "pygments_lexer": "ipython3",
   "version": "3.12.4"
  }
 },
 "nbformat": 4,
 "nbformat_minor": 5
}
